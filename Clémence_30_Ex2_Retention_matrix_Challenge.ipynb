{
  "nbformat": 4,
  "nbformat_minor": 0,
  "metadata": {
    "kernelspec": {
      "display_name": "Python 3",
      "language": "python",
      "name": "python3"
    },
    "language_info": {
      "codemirror_mode": {
        "name": "ipython",
        "version": 3
      },
      "file_extension": ".py",
      "mimetype": "text/x-python",
      "name": "python",
      "nbconvert_exporter": "python",
      "pygments_lexer": "ipython3",
      "version": "3.8.0"
    },
    "colab": {
      "provenance": [],
      "collapsed_sections": [
        "YOVQ7T_SUDx8"
      ],
      "include_colab_link": true
    }
  },
  "cells": [
    {
      "cell_type": "markdown",
      "metadata": {
        "id": "view-in-github",
        "colab_type": "text"
      },
      "source": [
        "<a href=\"https://colab.research.google.com/github/ClemenceBatardiereW/mamiavan/blob/main/Cl%C3%A9mence_30_Ex2_Retention_matrix_Challenge.ipynb\" target=\"_parent\"><img src=\"https://colab.research.google.com/assets/colab-badge.svg\" alt=\"Open In Colab\"/></a>"
      ]
    },
    {
      "cell_type": "markdown",
      "metadata": {
        "id": "-JzbMZMGL2W1"
      },
      "source": [
        " ![Emil](data:image/png;base64,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)"
      ]
    },
    {
      "cell_type": "markdown",
      "metadata": {
        "id": "3Io8S5AZL2W3"
      },
      "source": [
        "# Greenweez retention matrix"
      ]
    },
    {
      "cell_type": "markdown",
      "source": [
        "We will study covid's impact on Greenweez business with a focus on users'retention."
      ],
      "metadata": {
        "id": "PRX7fnRzi9lp"
      }
    },
    {
      "cell_type": "markdown",
      "source": [
        "Covid lockdowns in France:\n",
        "- from March 17 to May 11, 2020, i.e. 1 month and 25 days;\n",
        "- from October 30 to December 15, 2020, i.e. 1 month and 15 days;\n",
        "- from April 3 to May 3, 2021, i.e. 28 days."
      ],
      "metadata": {
        "id": "APOuNd_SRWe9"
      }
    },
    {
      "cell_type": "markdown",
      "source": [
        "## Turnover analysis"
      ],
      "metadata": {
        "id": "YOVQ7T_SUDx8"
      }
    },
    {
      "cell_type": "markdown",
      "source": [
        "a) Load Greenweez orders by executing the following cell. It takes two minutes of execution."
      ],
      "metadata": {
        "id": "I6MDzJAuMakU"
      }
    },
    {
      "cell_type": "code",
      "source": [
        "from google.colab import auth\n",
        "import pandas as pd\n",
        "\n",
        "# Will collect your credentials\n",
        "auth.authenticate_user()\n",
        "\n",
        "# Query Bigquery\n",
        "query = \"SELECT * FROM `data-analytics-bootcamp-363212.course30.gwz_orders` ORDER BY date_date\"\n",
        "\n",
        "df_orders = pd.read_gbq(query, project_id=\"data-analytics-bootcamp-363212\")"
      ],
      "metadata": {
        "id": "i4icg9JLhD7b"
      },
      "execution_count": null,
      "outputs": []
    },
    {
      "cell_type": "markdown",
      "source": [
        "b) Convert column `date_date` to datetime."
      ],
      "metadata": {
        "id": "lAGeu4WThKep"
      }
    },
    {
      "cell_type": "code",
      "source": [],
      "metadata": {
        "id": "vLf1znC7h9jd"
      },
      "execution_count": null,
      "outputs": []
    },
    {
      "cell_type": "markdown",
      "source": [
        "c) Set column `date_date` as index"
      ],
      "metadata": {
        "id": "-8QQPUP-iC7_"
      }
    },
    {
      "cell_type": "code",
      "source": [],
      "metadata": {
        "id": "Rw6lHIL_i3m1"
      },
      "execution_count": null,
      "outputs": []
    },
    {
      "cell_type": "markdown",
      "source": [
        "d) Calculate total turnover per year using `.resample()` method and store result in a `df_y_turnover` variable."
      ],
      "metadata": {
        "id": "VmqxnprDvdLf"
      }
    },
    {
      "cell_type": "code",
      "source": [],
      "metadata": {
        "colab": {
          "base_uri": "https://localhost:8080/"
        },
        "id": "xxUhXdfoQIbz",
        "outputId": "5eb87b40-b4a2-4d76-beea-4b96bb95cc16"
      },
      "execution_count": null,
      "outputs": [
        {
          "output_type": "execute_result",
          "data": {
            "text/plain": [
              "date_date\n",
              "2019-12-31    20990674.51\n",
              "2020-12-31    30413594.84\n",
              "2021-12-31    25917818.28\n",
              "Freq: A-DEC, Name: total_turnover, dtype: float64"
            ]
          },
          "metadata": {},
          "execution_count": 9
        }
      ]
    },
    {
      "cell_type": "markdown",
      "source": [
        "e) Calculate purcentage change 2020 and 2021 vs 2019.\n",
        "What was covid impact on turnover ?"
      ],
      "metadata": {
        "id": "OdjuFba_R7BX"
      }
    },
    {
      "cell_type": "code",
      "source": [],
      "metadata": {
        "id": "Fhx3EzGESiMg"
      },
      "execution_count": null,
      "outputs": []
    },
    {
      "cell_type": "markdown",
      "source": [],
      "metadata": {
        "id": "obRA-NiOTH24"
      }
    },
    {
      "cell_type": "markdown",
      "source": [
        "f) We will have a closer look if turnover increase comes from additional users or a bigger average order.\n",
        "\n",
        "Using `resample()` function, create a new variable `df_m_turnover` which is total turnover per month."
      ],
      "metadata": {
        "id": "rH5o1QtORSBn"
      }
    },
    {
      "cell_type": "code",
      "source": [],
      "metadata": {
        "id": "Pvw-b-UpVKBK"
      },
      "execution_count": null,
      "outputs": []
    },
    {
      "cell_type": "markdown",
      "source": [
        "g) Plot the result using Plotly express. \n",
        "Can you identify a pick in this chart ? Which month is it ?"
      ],
      "metadata": {
        "id": "carPyE9GVW3Z"
      }
    },
    {
      "cell_type": "code",
      "source": [],
      "metadata": {
        "id": "kPYD5cpaVbza"
      },
      "execution_count": null,
      "outputs": []
    },
    {
      "cell_type": "markdown",
      "source": [],
      "metadata": {
        "id": "hzYPkPjQV5YW"
      }
    },
    {
      "cell_type": "markdown",
      "source": [
        "h) Plot a similar chart but showing the average turnover instead. What do you see ?"
      ],
      "metadata": {
        "id": "oi_FwmSxWGci"
      }
    },
    {
      "cell_type": "code",
      "source": [],
      "metadata": {
        "id": "tMgaSr4MW8cO"
      },
      "execution_count": null,
      "outputs": []
    },
    {
      "cell_type": "markdown",
      "source": [],
      "metadata": {
        "id": "zRb-ISsyXNsH"
      }
    },
    {
      "cell_type": "markdown",
      "source": [
        "i) Let consider that a customer is new when the first order is done.\n",
        "What does this code do ?\n"
      ],
      "metadata": {
        "id": "3iW27Wa2XdNk"
      }
    },
    {
      "cell_type": "code",
      "source": [
        "df_first_orders = df_orders.reset_index().groupby(\"customers_id\", as_index=False).first()\n",
        "df_first_orders"
      ],
      "metadata": {
        "id": "VKRE8lYyYH0F"
      },
      "execution_count": null,
      "outputs": []
    },
    {
      "cell_type": "markdown",
      "source": [
        "j) From `df_first_orders` and in a new variable `df_new_customers`, compute the number of new users per month.\n",
        "\n",
        "Hint: `resample()` function has a \"on\" parameter..."
      ],
      "metadata": {
        "id": "-FfDAl0hXfI_"
      }
    },
    {
      "cell_type": "code",
      "source": [],
      "metadata": {
        "id": "t8x69Mysapoq"
      },
      "execution_count": null,
      "outputs": []
    },
    {
      "cell_type": "markdown",
      "source": [
        "k) Plot it in a graph with Plotly express. Which months have the most new customers ? Why do we have so many new users before Jul 2019 ? Is it correct ?"
      ],
      "metadata": {
        "id": "fjx1YnpBbVzQ"
      }
    },
    {
      "cell_type": "code",
      "source": [],
      "metadata": {
        "id": "7fEb-3NlZfEN"
      },
      "execution_count": null,
      "outputs": []
    },
    {
      "cell_type": "markdown",
      "source": [],
      "metadata": {
        "id": "odsagBBbfhlg"
      }
    },
    {
      "cell_type": "markdown",
      "source": [
        "l) What can you conclude ?"
      ],
      "metadata": {
        "id": "ObawfCQZf7bZ"
      }
    },
    {
      "cell_type": "markdown",
      "source": [],
      "metadata": {
        "id": "s4NagVOcgpk0"
      }
    },
    {
      "cell_type": "markdown",
      "source": [
        "## Matrix retention"
      ],
      "metadata": {
        "id": "8cY1eWCZiEKi"
      }
    },
    {
      "cell_type": "markdown",
      "source": [
        "We will now study how long customers stay to have a better understanding of the previous analysis. We will do a cohort analysis."
      ],
      "metadata": {
        "id": "WcJPQcnwiD9B"
      }
    },
    {
      "cell_type": "markdown",
      "source": [
        "a) We won't do resampling methods anymore. Use `.reset_index()` method on `df_orders` to bring back `date_date` as column and not an index anymore."
      ],
      "metadata": {
        "id": "919Pb0bJkpaM"
      }
    },
    {
      "cell_type": "code",
      "source": [],
      "metadata": {
        "id": "7VxcG7HulFPU"
      },
      "execution_count": null,
      "outputs": []
    },
    {
      "cell_type": "markdown",
      "source": [
        "b) In `df_first_orders` variables, rename column `date_date` by `member_at`.\n",
        "Use `.rename(columns={\"old_name\":\"new_name\"})` method."
      ],
      "metadata": {
        "id": "QvNKI4EPSV-e"
      }
    },
    {
      "cell_type": "code",
      "source": [],
      "metadata": {
        "id": "-fKTnmY8jK0v"
      },
      "execution_count": null,
      "outputs": []
    },
    {
      "cell_type": "markdown",
      "source": [
        "c) Add column `member_at` to `df_orders` variable.\n",
        "For that, we will merge `df_orders` and `df_first_orders` together. Keep only `customers_id` and `member_at` when performing the merge to avoid columns dupicates.\n",
        "\n",
        "We will store the result in a `df_cohort` variable."
      ],
      "metadata": {
        "id": "33d_fXnUjPy9"
      }
    },
    {
      "cell_type": "code",
      "source": [],
      "metadata": {
        "id": "angUGmH4jc8Y"
      },
      "execution_count": null,
      "outputs": []
    },
    {
      "cell_type": "markdown",
      "source": [
        "d) We will create cohorts based on `member_at` month. Execute cell below to do so. \n",
        "\n",
        "Note that because `member_at` is of type datetime, we can cast it to specific format like datetime64[M].\n",
        "\n",
        "What does it do exactly ?"
      ],
      "metadata": {
        "id": "lqMhKjValQ4R"
      }
    },
    {
      "cell_type": "code",
      "source": [
        "df_cohort[\"cohort\"] = df_cohort[\"member_at\"].astype('datetime64[M]')\n",
        "df_cohort[[\"member_at\", \"cohort\"]]"
      ],
      "metadata": {
        "id": "CITQJ4t7lY_B"
      },
      "execution_count": null,
      "outputs": []
    },
    {
      "cell_type": "markdown",
      "source": [
        "e) In a new variable `df_cohort_size` calculate numer of unique users per `cohort`. You can use `.nunique()` function to do it."
      ],
      "metadata": {
        "id": "HKV0nXQbnQib"
      }
    },
    {
      "cell_type": "code",
      "source": [],
      "metadata": {
        "id": "GAbRTzGInien"
      },
      "execution_count": null,
      "outputs": []
    },
    {
      "cell_type": "markdown",
      "source": [
        "f) For this study, we will not take orders made on december 2021 because we do not have them all and will take only orders made by customers having a member_at after 2019.\n",
        "\n",
        "Filter `df_cohort` on `date_date` < \"2021-12-01\" and `member_at` > \"2019-12-31\". \n",
        "\n",
        "Filter `df_cohort_size` on \"2020-01-01\":\"2021-11-01\""
      ],
      "metadata": {
        "id": "nO7cQqhUnrYl"
      }
    },
    {
      "cell_type": "code",
      "source": [],
      "metadata": {
        "id": "e3QHIYVUoJJh"
      },
      "execution_count": null,
      "outputs": []
    },
    {
      "cell_type": "markdown",
      "source": [
        "g) We will consider a customer being active when he makes an order. We won't consider the first order as being active because it's more like a subscription.\n",
        "\n",
        "Filter `df_cohort` on `date_date` > `member_at` to do so."
      ],
      "metadata": {
        "id": "3s0Z0EGYnsQ1"
      }
    },
    {
      "cell_type": "code",
      "source": [],
      "metadata": {
        "id": "itsy7_WcqGL7"
      },
      "execution_count": null,
      "outputs": []
    },
    {
      "cell_type": "markdown",
      "source": [
        "h) Look at the cell below and comment what it does.\n",
        "Execute the cell to create `nb_months` column."
      ],
      "metadata": {
        "id": "YopxDxh-nshx"
      }
    },
    {
      "cell_type": "code",
      "source": [
        "import numpy as np\n",
        "\n",
        "df_cohort[\"nb_months\"] = (df_cohort[\"date_date\"] - df_cohort[\"member_at\"]) / np.timedelta64(1,'M')\n",
        "df_cohort[\"nb_months\"] = df_cohort[\"nb_months\"].astype(int) + 1"
      ],
      "metadata": {
        "id": "bRwg5G73rPJd"
      },
      "execution_count": null,
      "outputs": []
    },
    {
      "cell_type": "markdown",
      "source": [
        "i) To be able to create a rentention matrix, we will have to count the number of unique `customer_ids` by `cohort` and `nb_months`. Do it and store the result in a variable `df_retention`.\n",
        "\n",
        "Don't forget to use as_index=False in groupby() function as we don't want put `cohort` and `nb_months` as indexes."
      ],
      "metadata": {
        "id": "WLRbXWtNnsxI"
      }
    },
    {
      "cell_type": "code",
      "source": [],
      "metadata": {
        "id": "DZRJrCfbrcdz"
      },
      "execution_count": null,
      "outputs": []
    },
    {
      "cell_type": "markdown",
      "source": [
        "j) From `df_retention` create a pivot table with `cohort` as index and `nb_months` as columns.\n",
        "\n",
        "Complete the code below to do it."
      ],
      "metadata": {
        "id": "1T_Z_dsrthg7"
      }
    },
    {
      "cell_type": "markdown",
      "source": [
        "This result is what we call a retention matrix:\n",
        "- A row gives the percentage of users of the cohort still active over the months\n",
        "- A column gives the evolution of the percentage of users still active at the end of this period over the cohorts."
      ],
      "metadata": {
        "id": "OVxF25O3u_E2"
      }
    },
    {
      "cell_type": "code",
      "source": [
        "# to be completed\n",
        "retention = \n",
        "\n",
        "# delete one column index level\n",
        "retention.columns = retention.columns.droplevel()\n",
        "retention"
      ],
      "metadata": {
        "id": "ddK5nMC6tkWs"
      },
      "execution_count": null,
      "outputs": []
    },
    {
      "cell_type": "markdown",
      "source": [
        "k) Results are difficult to read when it's not represented as purcentage of active users.\n",
        "\n",
        "We need to divide those values by `df_cohort_size` we calculated before. \n",
        "Because we are not divided by a simple value but by a pandas.Series indexed by a date, you will need to use `.div()` function.\n",
        "\n",
        "**Hint: be careful to choose the good axis parameter**"
      ],
      "metadata": {
        "id": "z2BFu0YLth8B"
      }
    },
    {
      "cell_type": "code",
      "source": [],
      "metadata": {
        "id": "fURhHvVrtpA5"
      },
      "execution_count": null,
      "outputs": []
    },
    {
      "cell_type": "markdown",
      "source": [
        "l) As always, visualisation skills are fundamental if we want to analyse those data.\n",
        "\n",
        "Execute the cell below that uses Plotly Express and the method `imshow()`."
      ],
      "metadata": {
        "id": "CdujoyfexOJk"
      }
    },
    {
      "cell_type": "code",
      "source": [
        "import plotly.express as px\n",
        "\n",
        "fig = px.imshow(retention, text_auto=\".0%\") \n",
        "fig.show()"
      ],
      "metadata": {
        "id": "_Q1ZizXxxTyh"
      },
      "execution_count": null,
      "outputs": []
    },
    {
      "cell_type": "markdown",
      "source": [
        "m) What conclusions can you make?"
      ],
      "metadata": {
        "id": "8IfUlz0ax2sG"
      }
    },
    {
      "cell_type": "markdown",
      "source": [
        "\n"
      ],
      "metadata": {
        "id": "cX1sN0G5SmBg"
      }
    }
  ]
}