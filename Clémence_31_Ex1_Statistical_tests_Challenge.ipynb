{
  "nbformat": 4,
  "nbformat_minor": 0,
  "metadata": {
    "colab": {
      "provenance": [],
      "collapsed_sections": [
        "9PsRXAX5Xe_m",
        "wAVPhyIDqmNi",
        "5MQY5OlN2m4y"
      ],
      "include_colab_link": true
    },
    "kernelspec": {
      "name": "python3",
      "display_name": "Python 3"
    },
    "language_info": {
      "name": "python"
    }
  },
  "cells": [
    {
      "cell_type": "markdown",
      "metadata": {
        "id": "view-in-github",
        "colab_type": "text"
      },
      "source": [
        "<a href=\"https://colab.research.google.com/github/ClemenceBatardiereW/mamiavan/blob/main/Cl%C3%A9mence_31_Ex1_Statistical_tests_Challenge.ipynb\" target=\"_parent\"><img src=\"https://colab.research.google.com/assets/colab-badge.svg\" alt=\"Open In Colab\"/></a>"
      ]
    },
    {
      "cell_type": "markdown",
      "source": [
        " ![Emil](data:image/png;base64,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)"
      ],
      "metadata": {
        "id": "X0M8IoWSXS1x"
      }
    },
    {
      "cell_type": "markdown",
      "source": [
        "# Statistical tests"
      ],
      "metadata": {
        "id": "UGTyiDkuXUFb"
      }
    },
    {
      "cell_type": "markdown",
      "source": [
        "With 79 explanatory variables describing (almost) every aspect of residential homes in Ames, Iowa, this dataset is real data. It contains more features than what we need but lets you pratice more in the future if you want to.\n",
        "\n",
        "You can find data description [on this website](https://www.kaggle.com/competitions/home-data-for-ml-course/data)."
      ],
      "metadata": {
        "id": "worndJnnCW71"
      }
    },
    {
      "cell_type": "markdown",
      "source": [
        "## Distribution\n"
      ],
      "metadata": {
        "id": "9PsRXAX5Xe_m"
      }
    },
    {
      "cell_type": "markdown",
      "source": [
        "a) Download [`Iowa_housing_prices.csv`](https://drive.google.com/file/d/1YgFv1_0-xl0blchMvhtUev4vzYX0BFGs/view?usp=sharing) and import data into `df` variable.\n",
        "\n",
        "\n"
      ],
      "metadata": {
        "id": "95Dqu1Vvdte2"
      }
    },
    {
      "cell_type": "code",
      "execution_count": null,
      "metadata": {
        "id": "RkhbiQh25kZz"
      },
      "outputs": [],
      "source": []
    },
    {
      "cell_type": "markdown",
      "source": [
        "b) We want to study `SalePrice` repartition.\n",
        "Use Plotly Express to do so.\n"
      ],
      "metadata": {
        "id": "FnnyqrT0eF-h"
      }
    },
    {
      "cell_type": "code",
      "source": [],
      "metadata": {
        "id": "dT2bE7O6fFAh"
      },
      "execution_count": null,
      "outputs": []
    },
    {
      "cell_type": "markdown",
      "source": [
        "c) Is is a normal distribution? Are there any outlier ?"
      ],
      "metadata": {
        "id": "Je13hIcX_5bK"
      }
    },
    {
      "cell_type": "markdown",
      "source": [],
      "metadata": {
        "id": "ECAbErMLfvxT"
      }
    },
    {
      "cell_type": "markdown",
      "source": [
        "d) How do you calculate quantile with Pandas ? Calculate 10% quantile of `SalePrice` variable (the price where 10% of houses in dataset is below)"
      ],
      "metadata": {
        "id": "rQqalz5Li8W-"
      }
    },
    {
      "cell_type": "code",
      "source": [],
      "metadata": {
        "id": "PHlWQNcvmJ2Q"
      },
      "execution_count": null,
      "outputs": []
    },
    {
      "cell_type": "markdown",
      "source": [
        "e) Look at `histnorm` parameter of `px.histogram()` function. What does it do ? Try \"probability\"."
      ],
      "metadata": {
        "id": "Pk7lUF0Dh_Fp"
      }
    },
    {
      "cell_type": "markdown",
      "source": [],
      "metadata": {
        "id": "ic-ACg0ziz0X"
      }
    },
    {
      "cell_type": "code",
      "source": [],
      "metadata": {
        "id": "NnaIqZkm8IyX"
      },
      "execution_count": null,
      "outputs": []
    },
    {
      "cell_type": "markdown",
      "source": [
        "f) We will now use statistics to determine if data follow a normal distribution or not. \n",
        "Execute the cell below and interpret result based on p-value.\n",
        "\n",
        "- H0 hypothesis: sample comes from a normal distribution\n",
        "- H1: H0 is false"
      ],
      "metadata": {
        "id": "btPFNmsoj0Xb"
      }
    },
    {
      "cell_type": "code",
      "source": [
        "from scipy import stats\n",
        "\n",
        "# Agostino and Pearson’s test\n",
        "k2, pvalue = stats.normaltest(df[\"SalePrice\"])\n",
        "\n",
        "print(pvalue)"
      ],
      "metadata": {
        "colab": {
          "base_uri": "https://localhost:8080/"
        },
        "id": "dpnKrCI4kKkq",
        "outputId": "8bc701f6-ea77-4128-acf8-f9d2602ab83a"
      },
      "execution_count": null,
      "outputs": [
        {
          "output_type": "stream",
          "name": "stdout",
          "text": [
            "2.283848353787728e-133\n"
          ]
        }
      ]
    },
    {
      "cell_type": "markdown",
      "source": [],
      "metadata": {
        "id": "8HUBjHfZoVQm"
      }
    },
    {
      "cell_type": "markdown",
      "source": [
        "g) One other chart is really useful to see repartition, it is box ploting.\n",
        "\n",
        "We want to observe relation between `OverallQual` and `SalePrice`. Create a boxplot with Plotly Express and interpret results."
      ],
      "metadata": {
        "id": "ZMMB7_AwoqoQ"
      }
    },
    {
      "cell_type": "code",
      "source": [],
      "metadata": {
        "id": "q6qx3iP7C-O7"
      },
      "execution_count": null,
      "outputs": []
    },
    {
      "cell_type": "markdown",
      "source": [],
      "metadata": {
        "id": "OlGeZRNfHYFz"
      }
    },
    {
      "cell_type": "markdown",
      "source": [
        "\n",
        "The thing that makes this chart so powerful with Plotly Express is that for each OverallQual category we have a statistic summary of the distribution."
      ],
      "metadata": {
        "id": "NsPJELHOpQVy"
      }
    },
    {
      "cell_type": "markdown",
      "source": [
        "h) What is the third percentile of OverallQual=7 ?"
      ],
      "metadata": {
        "id": "TCEWndzqp94Z"
      }
    },
    {
      "cell_type": "markdown",
      "source": [],
      "metadata": {
        "id": "peNfyD9WqKTb"
      }
    },
    {
      "cell_type": "markdown",
      "source": [
        "i) What does lower and upper fence mean ? "
      ],
      "metadata": {
        "id": "IuvLFUpoqVUE"
      }
    },
    {
      "cell_type": "markdown",
      "source": [],
      "metadata": {
        "id": "1UIFyqyFDoBI"
      }
    },
    {
      "cell_type": "markdown",
      "source": [
        "## Correlation"
      ],
      "metadata": {
        "id": "wAVPhyIDqmNi"
      }
    },
    {
      "cell_type": "markdown",
      "source": [
        "a) What does `df.corr()` do? How many features do you have ? \n",
        "\n",
        "Depending pandas version installed you may have only numerical features."
      ],
      "metadata": {
        "id": "F3sF2oFKIs9c"
      }
    },
    {
      "cell_type": "code",
      "source": [
        "df.corr()"
      ],
      "metadata": {
        "id": "1OaMwbMgrHxH"
      },
      "execution_count": null,
      "outputs": []
    },
    {
      "cell_type": "markdown",
      "source": [
        "b) As always, it's almost impossible to use those data without a proper visualisation. Use `px.imshow()` to visualize it. \n",
        "\n",
        "Be careful to use width and height parameters large enough to see all houses features."
      ],
      "metadata": {
        "id": "YrjAxBSOrQep"
      }
    },
    {
      "cell_type": "code",
      "source": [],
      "metadata": {
        "id": "GrsFWtIXsCzq"
      },
      "execution_count": null,
      "outputs": []
    },
    {
      "cell_type": "markdown",
      "source": [
        "c) We can now see which feature is correlated or not with `SalePrice` but between other features as well.\n",
        "\n",
        "What is the correlation between `Id` and `SalePrice`? Why?"
      ],
      "metadata": {
        "id": "W3CclSCUOjhL"
      }
    },
    {
      "cell_type": "markdown",
      "source": [],
      "metadata": {
        "id": "wZYa2QdaxsNc"
      }
    },
    {
      "cell_type": "markdown",
      "source": [
        "d) Are there any feature negatively correlated with SalePrice ?"
      ],
      "metadata": {
        "id": "WAkOZPbQQaKB"
      }
    },
    {
      "cell_type": "markdown",
      "source": [],
      "metadata": {
        "id": "IoNoJhogyCOg"
      }
    },
    {
      "cell_type": "markdown",
      "source": [
        "e) What do you think of the correlation between `GrLivArea` and `SalePrice`? Is it a surprise?"
      ],
      "metadata": {
        "id": "MswpCFvYyRSS"
      }
    },
    {
      "cell_type": "markdown",
      "source": [],
      "metadata": {
        "id": "AwmVGJRoybnM"
      }
    },
    {
      "cell_type": "markdown",
      "source": [
        "f) Use `px.scatter()` function to display a scatterplot between `GrLivArea` and `SalePrice`."
      ],
      "metadata": {
        "id": "n10U2r-UOcvw"
      }
    },
    {
      "cell_type": "code",
      "source": [],
      "metadata": {
        "id": "tppcgdmMQhGS"
      },
      "execution_count": null,
      "outputs": []
    },
    {
      "cell_type": "markdown",
      "source": [
        "g) What does `trendline` parameter do ? \n",
        "\n",
        "Replot your char using it. Mouse over the chart, what do you see ?"
      ],
      "metadata": {
        "id": "m-JItKotShSW"
      }
    },
    {
      "cell_type": "code",
      "source": [],
      "metadata": {
        "id": "5Ty8naNfSKMU"
      },
      "execution_count": null,
      "outputs": []
    },
    {
      "cell_type": "markdown",
      "source": [],
      "metadata": {
        "id": "qW5NOSZo05M-"
      }
    },
    {
      "cell_type": "markdown",
      "source": [
        "h) **Be careful, correlation doesn't mean causality !**\n",
        "\n",
        "It's so important to keep that in mind to not take false conclusions.\n",
        "\n",
        "Go to [this website](https://www.tylervigen.com/spurious-correlations) and pick the most absurd correlation of your choice."
      ],
      "metadata": {
        "id": "xHMRU3cbg9br"
      }
    },
    {
      "cell_type": "markdown",
      "source": [
        "## Statistical tests"
      ],
      "metadata": {
        "id": "5MQY5OlN2m4y"
      }
    },
    {
      "cell_type": "markdown",
      "source": [
        "Statistical tests are useful to tell us if a difference is statistically significant."
      ],
      "metadata": {
        "id": "MpkBWfL6Sxiv"
      }
    },
    {
      "cell_type": "markdown",
      "source": [
        "a) Let study the impact of `Neighborhood` on `SalePrice`.\n",
        "\n",
        "Plot a histogram of `SalePrice` and pass `Neighborhood` in color parameter. Play with the chart to visually see that some Neighborhoods have different repartition."
      ],
      "metadata": {
        "id": "vce7AuaoTrxI"
      }
    },
    {
      "cell_type": "code",
      "source": [],
      "metadata": {
        "id": "TTACer9ISaaX"
      },
      "execution_count": null,
      "outputs": []
    },
    {
      "cell_type": "markdown",
      "source": [
        "b) What statistical tests do you propose to verify statistically that there is a price difference between IDOTRR and ClearCr neighborhood?\n",
        "\n",
        "Can we do a Ztest?"
      ],
      "metadata": {
        "id": "8rIHRKdCYMmB"
      }
    },
    {
      "cell_type": "markdown",
      "source": [],
      "metadata": {
        "id": "sHJlZXOr6Xd5"
      }
    },
    {
      "cell_type": "code",
      "source": [],
      "metadata": {
        "id": "i7Aa3ognZKWZ"
      },
      "execution_count": null,
      "outputs": []
    },
    {
      "cell_type": "markdown",
      "source": [
        "c) Implement a ttest. \n",
        "What can you conclude if we accept a 5% risk?\n",
        "\n",
        "Hint: test first if standard variation are equal to test if variances are similar "
      ],
      "metadata": {
        "id": "OlvYcxny6SwH"
      }
    },
    {
      "cell_type": "code",
      "source": [],
      "metadata": {
        "id": "7BnOcWg0XwSf"
      },
      "execution_count": null,
      "outputs": []
    },
    {
      "cell_type": "markdown",
      "source": [],
      "metadata": {
        "id": "aKVVs6Uh7H4A"
      }
    },
    {
      "cell_type": "markdown",
      "source": [
        "d) We will now study the influence of `Foundation` on `SalePrice`.\n",
        "\n",
        "Make a boxplot chart of SalesPrice over foundation."
      ],
      "metadata": {
        "id": "Daan68embi_x"
      }
    },
    {
      "cell_type": "code",
      "source": [],
      "metadata": {
        "id": "b9g9C0P3ZeEl"
      },
      "execution_count": null,
      "outputs": []
    },
    {
      "cell_type": "markdown",
      "source": [
        "e) How many samples are there per type of foundation ?"
      ],
      "metadata": {
        "id": "4g8XxMVucoIs"
      }
    },
    {
      "cell_type": "code",
      "source": [],
      "metadata": {
        "id": "OTOqAl-wcy5v"
      },
      "execution_count": null,
      "outputs": []
    },
    {
      "cell_type": "markdown",
      "source": [
        "f) Only `Brktil`, `CBlock`and `Pconc` have enough samples to use statistical tests.\n",
        "\n",
        "Are Houses prices significativly different among those three types of Foundation ? \n",
        "Which test should you use? What can you conclude?"
      ],
      "metadata": {
        "id": "lAQFd190dvQT"
      }
    },
    {
      "cell_type": "code",
      "source": [],
      "metadata": {
        "id": "MFIy6lefbucb"
      },
      "execution_count": null,
      "outputs": []
    },
    {
      "cell_type": "markdown",
      "source": [],
      "metadata": {
        "id": "hljQ0zepeRX3"
      }
    },
    {
      "cell_type": "markdown",
      "source": [
        "g) Study impact of `CentralAir`- Y or N. Which test should you use ? What can you conclude?"
      ],
      "metadata": {
        "id": "TDqGkwvGfTQj"
      }
    },
    {
      "cell_type": "code",
      "source": [],
      "metadata": {
        "id": "4lpbJLmZerKL"
      },
      "execution_count": null,
      "outputs": []
    },
    {
      "cell_type": "markdown",
      "source": [],
      "metadata": {
        "id": "DlE6r-DmgshF"
      }
    },
    {
      "cell_type": "markdown",
      "source": [
        "h) Study impact of `LotConfig` - Inside or Corner. Which test should you use ? What can you conclude if we accept a maximum risk of 5%?"
      ],
      "metadata": {
        "id": "HrQyNNlmfVvK"
      }
    },
    {
      "cell_type": "code",
      "source": [],
      "metadata": {
        "id": "-tA9wQYVf6rg"
      },
      "execution_count": null,
      "outputs": []
    },
    {
      "cell_type": "markdown",
      "source": [],
      "metadata": {
        "id": "1Z_6CJlOgD1k"
      }
    },
    {
      "cell_type": "markdown",
      "source": [
        "i) If we now accept a maximum risk of 42%, is the conclusion different?"
      ],
      "metadata": {
        "id": "0Wtov93vz4cs"
      }
    },
    {
      "cell_type": "markdown",
      "source": [],
      "metadata": {
        "id": "NnjhWnv40Giy"
      }
    },
    {
      "cell_type": "markdown",
      "source": [
        "j) Read [this article](https://www.nature.com/articles/d41586-019-00857-9) on why we shouldn't use only 5% risk but it's more a question on how much risk we are willing to take."
      ],
      "metadata": {
        "id": "MqXZG_aw0XtL"
      }
    },
    {
      "cell_type": "markdown",
      "source": [
        "k) Dabl is a handy library that allows you to quickly visualize the relationships of all features. It shows only top 10 features but worth it for small dataset or you need to slice your data.\n",
        "\n",
        "Execute cells below and observe charts.\n",
        "\n",
        "PS: you migh restart your kernel to be able to see the result"
      ],
      "metadata": {
        "id": "tM1Om9Ib0mg1"
      }
    },
    {
      "cell_type": "code",
      "source": [
        "!pip install dabl\n",
        "!pip install -U matplotlib"
      ],
      "metadata": {
        "id": "OOu4z5uweKet"
      },
      "execution_count": null,
      "outputs": []
    },
    {
      "cell_type": "code",
      "source": [
        "import dabl\n",
        "\n",
        "dabl.plot(df, target_col = 'SalePrice', verbose=100)"
      ],
      "metadata": {
        "id": "T9At_LqUEBUa"
      },
      "execution_count": null,
      "outputs": []
    }
  ]
}